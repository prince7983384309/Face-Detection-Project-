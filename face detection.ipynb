{
 "cells": [
  {
   "cell_type": "code",
   "execution_count": 5,
   "id": "eca41bbb",
   "metadata": {},
   "outputs": [],
   "source": [
    "# import the libraries.\n",
    "import cv2\n",
    "import numpy as np\n",
    "import face_recognition\n",
    "import os"
   ]
  },
  {
   "cell_type": "code",
   "execution_count": 6,
   "id": "d3f52320",
   "metadata": {},
   "outputs": [
    {
     "name": "stdout",
     "output_type": "stream",
     "text": [
      "['akshay .jpeg', 'akshay.jpeg', 'shahrukh.jpg']\n",
      "['akshay ', 'akshay', 'shahrukh']\n"
     ]
    }
   ],
   "source": [
    "\n",
    "\n",
    "path = \"imgfold\"\n",
    "images = []\n",
    "classNames = []\n",
    "mylist = os.listdir(path) # get all the images from \"imgfold\" folder.\n",
    " \n",
    "for i in mylist:\n",
    "    curImg = cv2.imread(f'{path}/{i}') # current images(curImg).\n",
    "    images.append(curImg)\n",
    "    classNames.append(os.path.splitext(i)[0]) # split the images name and get without jpeg.\n",
    "     \n",
    "print(mylist)    \n",
    "print(classNames)    "
   ]
  },
  {
   "cell_type": "code",
   "execution_count": 7,
   "id": "b0129512",
   "metadata": {},
   "outputs": [
    {
     "name": "stdout",
     "output_type": "stream",
     "text": [
      "encoding is done.\n"
     ]
    }
   ],
   "source": [
    "# now encode the all images.\n",
    "\n",
    "def encodeimg(images):\n",
    "    encodelist = []\n",
    "    for img in images:\n",
    "        img = cv2.cvtColor(img, cv2.COLOR_BGR2RGB)\n",
    "        encode = face_recognition.face_encodings(img)[0]\n",
    "        encodelist.append(encode)\n",
    "    return encodelist\n",
    "ENCODE = encodeimg(images)\n",
    "print(\"encoding is done.\")"
   ]
  },
  {
   "cell_type": "code",
   "execution_count": null,
   "id": "1e046c41",
   "metadata": {},
   "outputs": [
    {
     "name": "stdout",
     "output_type": "stream",
     "text": [
      "[0.68354966 0.65488328 0.82369726]\n",
      "[0.7344296  0.69594751 0.60586385]\n",
      "[0.72744926 0.71203642 0.51075206]\n",
      "[0.67952957 0.63346649 0.52938703]\n",
      "[0.68736216 0.69800205 0.44254935]\n",
      "[0.7662904  0.76316439 0.45110804]\n",
      "[0.71990054 0.70543621 0.46284254]\n",
      "[0.72714133 0.72801121 0.40877268]\n",
      "[0.74637472 0.7521446  0.46419866]\n",
      "[0.71828747 0.72280463 0.67668731]\n",
      "[0.69917788 0.73684177 0.70200405]\n",
      "[0.69556506 0.73949673 0.68616159]\n",
      "[0.71911306 0.72746699 0.69763927]\n",
      "[0.66513798 0.6787892  0.6429676 ]\n"
     ]
    }
   ],
   "source": [
    "# enable the camera.\n",
    "\n",
    "cap = cv2.VideoCapture(0)\n",
    "\n",
    "while True:\n",
    "    success, img = cap.read()\n",
    "    imgsmall = cv2.resize(img, (0,0), None, 0.25, 0.25) # (image, pixelsize, None , scale)\n",
    "    imgsmall = cv2.cvtColor(imgsmall, cv2.COLOR_BGR2RGB)\n",
    "    FacelocCurFrame = face_recognition.face_locations(imgsmall) # face location in current frame.\n",
    "    EncodeCurFrame = face_recognition.face_encodings(imgsmall, FacelocCurFrame) # encode the current frame.\n",
    "    \n",
    "    for encodeface , facelocation in zip(EncodeCurFrame, FacelocCurFrame):\n",
    "        matching = face_recognition.compare_faces(ENCODE, encodeface)\n",
    "        facedist = face_recognition.face_distance(ENCODE, encodeface)\n",
    "        #print(facedist)\n",
    "        matchindex = np.argmin(facedist)\n",
    "        \n",
    "        if matching[matchindex]:\n",
    "            name = classNames[matchindex].upper()\n",
    "            #print(name)\n",
    "            y1, x1, y2, x2 = facelocation\n",
    "            y1, x1, y2, x2 = y1*4, x1*4, y2*4, x2*4\n",
    "            cv2.rectangle(img, (x1,y1), (x2,y2), (0,255,0), 2)\n",
    "            cv2.rectangle(img, (x1,y2-35), (x2,y2), (0,255,0), cv2.FILLED)\n",
    "            cv2.putText(img, name, (x1+6, y2-6), cv2.FONT_HERSHEY_COMPLEX, 1, (255,255,255), 2 )\n",
    "            \n",
    "            \n",
    "    cv2.imshow('webcam', img)\n",
    "    cv2.waitKey(1)"
   ]
  },
  {
   "cell_type": "code",
   "execution_count": null,
   "id": "4c487cb8",
   "metadata": {},
   "outputs": [],
   "source": []
  }
 ],
 "metadata": {
  "kernelspec": {
   "display_name": "Python 3 (ipykernel)",
   "language": "python",
   "name": "python3"
  },
  "language_info": {
   "codemirror_mode": {
    "name": "ipython",
    "version": 3
   },
   "file_extension": ".py",
   "mimetype": "text/x-python",
   "name": "python",
   "nbconvert_exporter": "python",
   "pygments_lexer": "ipython3",
   "version": "3.10.9"
  }
 },
 "nbformat": 4,
 "nbformat_minor": 5
}
